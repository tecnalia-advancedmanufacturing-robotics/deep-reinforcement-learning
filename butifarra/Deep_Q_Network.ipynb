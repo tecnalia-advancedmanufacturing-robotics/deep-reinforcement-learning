{
 "cells": [
  {
   "cell_type": "markdown",
   "metadata": {},
   "source": [
    "# Deep Q-Network (DQN)\n",
    "---\n",
    "In this notebook, you will implement a DQN agent with OpenAI Gym's LunarLander-v2 environment.\n",
    "\n",
    "### 1. Import the Necessary Packages"
   ]
  },
  {
   "cell_type": "code",
   "execution_count": 1,
   "metadata": {},
   "outputs": [],
   "source": [
    "import gym\n",
    "import random\n",
    "import torch\n",
    "import numpy as np\n",
    "from collections import deque\n",
    "import matplotlib.pyplot as plt\n",
    "import tqdm as tqdm\n",
    "from butifarra_env import ButifarraEnv\n",
    "from collections import defaultdict\n",
    "%matplotlib inline"
   ]
  },
  {
   "cell_type": "markdown",
   "metadata": {},
   "source": [
    "### 2. Instantiate the Environment and Agent\n",
    "\n",
    "Initialize the environment in the code cell below."
   ]
  },
  {
   "cell_type": "code",
   "execution_count": 2,
   "metadata": {},
   "outputs": [
    {
     "name": "stdout",
     "output_type": "stream",
     "text": [
      "State shape:  (628,)\n",
      "Number of actions:  48\n"
     ]
    }
   ],
   "source": [
    "env = ButifarraEnv(render_mode='ansi')\n",
    "env.reset()\n",
    "print('State shape: ', env.observation_space(env.agents[0])[\"observation\"].shape)\n",
    "print('Number of actions: ', env.action_space(env.agents[0]).n)"
   ]
  },
  {
   "cell_type": "markdown",
   "metadata": {},
   "source": [
    "Before running the next code cell, familiarize yourself with the code in **Step 2** and **Step 3** of this notebook, along with the code in `dqn_agent.py` and `model.py`.  Once you have an understanding of how the different files work together, \n",
    "- Define a neural network architecture in `model.py` that maps states to action values.  This file is mostly empty - it's up to you to define your own deep Q-network!\n",
    "- Finish the `learn` method in the `Agent` class in `dqn_agent.py`.  The sampled batch of experience tuples is already provided for you; you need only use the local and target Q-networks to compute the loss, before taking a step towards minimizing the loss.\n",
    "\n",
    "Once you have completed the code in `dqn_agent.py` and `model.py`, run the code cell below.  (_If you end up needing to make multiple changes and get unexpected behavior, please restart the kernel and run the cells from the beginning of the notebook!_)\n",
    "\n",
    "You can find the solution files, along with saved model weights for a trained agent, in the `solution/` folder.  (_Note that there are many ways to solve this exercise, and the \"solution\" is just one way of approaching the problem, to yield a trained agent._)"
   ]
  },
  {
   "cell_type": "markdown",
   "metadata": {},
   "source": [
    "### 3. Train the Agent with DQN\n",
    "\n",
    "Run the code cell below to train the agent from scratch.  You are welcome to amend the supplied values of the parameters in the function, to try to see if you can get better performance!"
   ]
  },
  {
   "cell_type": "code",
   "execution_count": 3,
   "metadata": {},
   "outputs": [
    {
     "name": "stderr",
     "output_type": "stream",
     "text": [
      "UsageError: Line magic function `%tensorboard` not found.\n"
     ]
    }
   ],
   "source": [
    "%tensorboard --logdir=runs\n"
   ]
  },
  {
   "cell_type": "code",
   "execution_count": 5,
   "metadata": {},
   "outputs": [
    {
     "name": "stderr",
     "output_type": "stream",
     "text": [
      "  0%|          | 0/3000 [00:00<?, ?it/s]"
     ]
    },
    {
     "name": "stderr",
     "output_type": "stream",
     "text": [
      " 81%|████████  | 2425/3000 [09:26<02:14,  4.28it/s, eps=0.297, player_0=-13.4, player_1=-28.5, player_2=-57.8, player_3=-28.3]\n"
     ]
    },
    {
     "ename": "KeyboardInterrupt",
     "evalue": "",
     "output_type": "error",
     "traceback": [
      "\u001b[0;31m---------------------------------------------------------------------------\u001b[0m",
      "\u001b[0;31mKeyboardInterrupt\u001b[0m                         Traceback (most recent call last)",
      "\u001b[1;32m/home/110359@TRI.LAN/Documents/deep-reinforcement-learning/butifarra/Deep_Q_Network.ipynb Cell 8\u001b[0m line \u001b[0;36m5\n\u001b[1;32m     <a href='vscode-notebook-cell:/home/110359%40TRI.LAN/Documents/deep-reinforcement-learning/butifarra/Deep_Q_Network.ipynb#X11sZmlsZQ%3D%3D?line=47'>48</a>\u001b[0m         \u001b[39m# if i_episode % 100 == 0:\u001b[39;00m\n\u001b[1;32m     <a href='vscode-notebook-cell:/home/110359%40TRI.LAN/Documents/deep-reinforcement-learning/butifarra/Deep_Q_Network.ipynb#X11sZmlsZQ%3D%3D?line=48'>49</a>\u001b[0m         \u001b[39m#     if mean_score > best_score:\u001b[39;00m\n\u001b[1;32m     <a href='vscode-notebook-cell:/home/110359%40TRI.LAN/Documents/deep-reinforcement-learning/butifarra/Deep_Q_Network.ipynb#X11sZmlsZQ%3D%3D?line=49'>50</a>\u001b[0m         \u001b[39m#         best_score = mean_score\u001b[39;00m\n\u001b[1;32m     <a href='vscode-notebook-cell:/home/110359%40TRI.LAN/Documents/deep-reinforcement-learning/butifarra/Deep_Q_Network.ipynb#X11sZmlsZQ%3D%3D?line=50'>51</a>\u001b[0m         \u001b[39m#         # torch.save(agent.qnetwork_local.state_dict(), f'checkpoint_buti.pth')\u001b[39;00m\n\u001b[1;32m     <a href='vscode-notebook-cell:/home/110359%40TRI.LAN/Documents/deep-reinforcement-learning/butifarra/Deep_Q_Network.ipynb#X11sZmlsZQ%3D%3D?line=52'>53</a>\u001b[0m     \u001b[39mreturn\u001b[39;00m scores\n\u001b[0;32m---> <a href='vscode-notebook-cell:/home/110359%40TRI.LAN/Documents/deep-reinforcement-learning/butifarra/Deep_Q_Network.ipynb#X11sZmlsZQ%3D%3D?line=55'>56</a>\u001b[0m dqn()\n",
      "\u001b[1;32m/home/110359@TRI.LAN/Documents/deep-reinforcement-learning/butifarra/Deep_Q_Network.ipynb Cell 8\u001b[0m line \u001b[0;36m3\n\u001b[1;32m     <a href='vscode-notebook-cell:/home/110359%40TRI.LAN/Documents/deep-reinforcement-learning/butifarra/Deep_Q_Network.ipynb#X11sZmlsZQ%3D%3D?line=36'>37</a>\u001b[0m     done \u001b[39m=\u001b[39m d1 \u001b[39mor\u001b[39;00m d2\n\u001b[1;32m     <a href='vscode-notebook-cell:/home/110359%40TRI.LAN/Documents/deep-reinforcement-learning/butifarra/Deep_Q_Network.ipynb#X11sZmlsZQ%3D%3D?line=37'>38</a>\u001b[0m     \u001b[39mif\u001b[39;00m agent_name \u001b[39min\u001b[39;00m observations:\n\u001b[0;32m---> <a href='vscode-notebook-cell:/home/110359%40TRI.LAN/Documents/deep-reinforcement-learning/butifarra/Deep_Q_Network.ipynb#X11sZmlsZQ%3D%3D?line=38'>39</a>\u001b[0m         agents[agent_name]\u001b[39m.\u001b[39;49mstep(observations[agent_name], action, reward, next_state[\u001b[39m\"\u001b[39;49m\u001b[39mobservation\u001b[39;49m\u001b[39m\"\u001b[39;49m]\u001b[39m.\u001b[39;49mastype(np\u001b[39m.\u001b[39;49mfloat32), done)\n\u001b[1;32m     <a href='vscode-notebook-cell:/home/110359%40TRI.LAN/Documents/deep-reinforcement-learning/butifarra/Deep_Q_Network.ipynb#X11sZmlsZQ%3D%3D?line=39'>40</a>\u001b[0m     observations[agent_name] \u001b[39m=\u001b[39m next_state[\u001b[39m\"\u001b[39m\u001b[39mobservation\u001b[39m\u001b[39m\"\u001b[39m]\u001b[39m.\u001b[39mastype(np\u001b[39m.\u001b[39mfloat32)\n\u001b[1;32m     <a href='vscode-notebook-cell:/home/110359%40TRI.LAN/Documents/deep-reinforcement-learning/butifarra/Deep_Q_Network.ipynb#X11sZmlsZQ%3D%3D?line=40'>41</a>\u001b[0m eps \u001b[39m=\u001b[39m \u001b[39mmax\u001b[39m(eps_end, eps_decay\u001b[39m*\u001b[39meps) \u001b[39m# decrease epsilon\u001b[39;00m\n",
      "File \u001b[0;32m~/Documents/deep-reinforcement-learning/butifarra/dqn_agent.py:84\u001b[0m, in \u001b[0;36mAgent.step\u001b[0;34m(self, state, action, reward, next_state, done)\u001b[0m\n\u001b[1;32m     81\u001b[0m \u001b[39mdef\u001b[39;00m \u001b[39mstep\u001b[39m(\u001b[39mself\u001b[39m, state, action, reward, next_state, done):\n\u001b[1;32m     82\u001b[0m     \u001b[39m# Save experience in replay memory\u001b[39;00m\n\u001b[1;32m     83\u001b[0m     \u001b[39mif\u001b[39;00m \u001b[39misinstance\u001b[39m(\u001b[39mself\u001b[39m\u001b[39m.\u001b[39mmemory, PriorityReplayBuffer):\n\u001b[0;32m---> 84\u001b[0m         priority \u001b[39m=\u001b[39m \u001b[39mself\u001b[39;49m\u001b[39m.\u001b[39;49mcompute_priority(state, action, reward, next_state)\n\u001b[1;32m     85\u001b[0m         \u001b[39mself\u001b[39m\u001b[39m.\u001b[39mmemory\u001b[39m.\u001b[39madd(state, action, reward, next_state, done, priority)\n\u001b[1;32m     86\u001b[0m     \u001b[39melse\u001b[39;00m:\n",
      "File \u001b[0;32m~/Documents/deep-reinforcement-learning/butifarra/dqn_agent.py:97\u001b[0m, in \u001b[0;36mAgent.compute_priority\u001b[0;34m(self, state, action, reward, next_state)\u001b[0m\n\u001b[1;32m     96\u001b[0m \u001b[39mdef\u001b[39;00m \u001b[39mcompute_priority\u001b[39m(\u001b[39mself\u001b[39m, state, action, reward, next_state):\n\u001b[0;32m---> 97\u001b[0m     nest_state_pred \u001b[39m=\u001b[39m \u001b[39mself\u001b[39;49m\u001b[39m.\u001b[39;49mqnetwork_target(torch\u001b[39m.\u001b[39;49mfrom_numpy(next_state)\u001b[39m.\u001b[39;49mto(device))\n\u001b[1;32m     98\u001b[0m     error \u001b[39m=\u001b[39m reward \u001b[39m+\u001b[39m\\\n\u001b[1;32m     99\u001b[0m         GAMMA \u001b[39m*\u001b[39m nest_state_pred\u001b[39m.\u001b[39mmax()\n\u001b[1;32m    100\u001b[0m     \u001b[39mif\u001b[39;00m action \u001b[39mis\u001b[39;00m \u001b[39mnot\u001b[39;00m \u001b[39mNone\u001b[39;00m:\n",
      "File \u001b[0;32m~/.local/lib/python3.10/site-packages/torch/nn/modules/module.py:1518\u001b[0m, in \u001b[0;36mModule._wrapped_call_impl\u001b[0;34m(self, *args, **kwargs)\u001b[0m\n\u001b[1;32m   1516\u001b[0m     \u001b[39mreturn\u001b[39;00m \u001b[39mself\u001b[39m\u001b[39m.\u001b[39m_compiled_call_impl(\u001b[39m*\u001b[39margs, \u001b[39m*\u001b[39m\u001b[39m*\u001b[39mkwargs)  \u001b[39m# type: ignore[misc]\u001b[39;00m\n\u001b[1;32m   1517\u001b[0m \u001b[39melse\u001b[39;00m:\n\u001b[0;32m-> 1518\u001b[0m     \u001b[39mreturn\u001b[39;00m \u001b[39mself\u001b[39;49m\u001b[39m.\u001b[39;49m_call_impl(\u001b[39m*\u001b[39;49margs, \u001b[39m*\u001b[39;49m\u001b[39m*\u001b[39;49mkwargs)\n",
      "File \u001b[0;32m~/.local/lib/python3.10/site-packages/torch/nn/modules/module.py:1527\u001b[0m, in \u001b[0;36mModule._call_impl\u001b[0;34m(self, *args, **kwargs)\u001b[0m\n\u001b[1;32m   1522\u001b[0m \u001b[39m# If we don't have any hooks, we want to skip the rest of the logic in\u001b[39;00m\n\u001b[1;32m   1523\u001b[0m \u001b[39m# this function, and just call forward.\u001b[39;00m\n\u001b[1;32m   1524\u001b[0m \u001b[39mif\u001b[39;00m \u001b[39mnot\u001b[39;00m (\u001b[39mself\u001b[39m\u001b[39m.\u001b[39m_backward_hooks \u001b[39mor\u001b[39;00m \u001b[39mself\u001b[39m\u001b[39m.\u001b[39m_backward_pre_hooks \u001b[39mor\u001b[39;00m \u001b[39mself\u001b[39m\u001b[39m.\u001b[39m_forward_hooks \u001b[39mor\u001b[39;00m \u001b[39mself\u001b[39m\u001b[39m.\u001b[39m_forward_pre_hooks\n\u001b[1;32m   1525\u001b[0m         \u001b[39mor\u001b[39;00m _global_backward_pre_hooks \u001b[39mor\u001b[39;00m _global_backward_hooks\n\u001b[1;32m   1526\u001b[0m         \u001b[39mor\u001b[39;00m _global_forward_hooks \u001b[39mor\u001b[39;00m _global_forward_pre_hooks):\n\u001b[0;32m-> 1527\u001b[0m     \u001b[39mreturn\u001b[39;00m forward_call(\u001b[39m*\u001b[39;49margs, \u001b[39m*\u001b[39;49m\u001b[39m*\u001b[39;49mkwargs)\n\u001b[1;32m   1529\u001b[0m \u001b[39mtry\u001b[39;00m:\n\u001b[1;32m   1530\u001b[0m     result \u001b[39m=\u001b[39m \u001b[39mNone\u001b[39;00m\n",
      "File \u001b[0;32m~/Documents/deep-reinforcement-learning/butifarra/model.py:29\u001b[0m, in \u001b[0;36mQNetwork.forward\u001b[0;34m(self, state)\u001b[0m\n\u001b[1;32m     27\u001b[0m \u001b[39mdef\u001b[39;00m \u001b[39mforward\u001b[39m(\u001b[39mself\u001b[39m, state):\n\u001b[1;32m     28\u001b[0m     \u001b[39m\"\"\"Build a network that maps state -> action values.\"\"\"\u001b[39;00m\n\u001b[0;32m---> 29\u001b[0m     \u001b[39mreturn\u001b[39;00m \u001b[39mself\u001b[39;49m\u001b[39m.\u001b[39;49mseq(state)\n",
      "File \u001b[0;32m~/.local/lib/python3.10/site-packages/torch/nn/modules/module.py:1518\u001b[0m, in \u001b[0;36mModule._wrapped_call_impl\u001b[0;34m(self, *args, **kwargs)\u001b[0m\n\u001b[1;32m   1516\u001b[0m     \u001b[39mreturn\u001b[39;00m \u001b[39mself\u001b[39m\u001b[39m.\u001b[39m_compiled_call_impl(\u001b[39m*\u001b[39margs, \u001b[39m*\u001b[39m\u001b[39m*\u001b[39mkwargs)  \u001b[39m# type: ignore[misc]\u001b[39;00m\n\u001b[1;32m   1517\u001b[0m \u001b[39melse\u001b[39;00m:\n\u001b[0;32m-> 1518\u001b[0m     \u001b[39mreturn\u001b[39;00m \u001b[39mself\u001b[39;49m\u001b[39m.\u001b[39;49m_call_impl(\u001b[39m*\u001b[39;49margs, \u001b[39m*\u001b[39;49m\u001b[39m*\u001b[39;49mkwargs)\n",
      "File \u001b[0;32m~/.local/lib/python3.10/site-packages/torch/nn/modules/module.py:1527\u001b[0m, in \u001b[0;36mModule._call_impl\u001b[0;34m(self, *args, **kwargs)\u001b[0m\n\u001b[1;32m   1522\u001b[0m \u001b[39m# If we don't have any hooks, we want to skip the rest of the logic in\u001b[39;00m\n\u001b[1;32m   1523\u001b[0m \u001b[39m# this function, and just call forward.\u001b[39;00m\n\u001b[1;32m   1524\u001b[0m \u001b[39mif\u001b[39;00m \u001b[39mnot\u001b[39;00m (\u001b[39mself\u001b[39m\u001b[39m.\u001b[39m_backward_hooks \u001b[39mor\u001b[39;00m \u001b[39mself\u001b[39m\u001b[39m.\u001b[39m_backward_pre_hooks \u001b[39mor\u001b[39;00m \u001b[39mself\u001b[39m\u001b[39m.\u001b[39m_forward_hooks \u001b[39mor\u001b[39;00m \u001b[39mself\u001b[39m\u001b[39m.\u001b[39m_forward_pre_hooks\n\u001b[1;32m   1525\u001b[0m         \u001b[39mor\u001b[39;00m _global_backward_pre_hooks \u001b[39mor\u001b[39;00m _global_backward_hooks\n\u001b[1;32m   1526\u001b[0m         \u001b[39mor\u001b[39;00m _global_forward_hooks \u001b[39mor\u001b[39;00m _global_forward_pre_hooks):\n\u001b[0;32m-> 1527\u001b[0m     \u001b[39mreturn\u001b[39;00m forward_call(\u001b[39m*\u001b[39;49margs, \u001b[39m*\u001b[39;49m\u001b[39m*\u001b[39;49mkwargs)\n\u001b[1;32m   1529\u001b[0m \u001b[39mtry\u001b[39;00m:\n\u001b[1;32m   1530\u001b[0m     result \u001b[39m=\u001b[39m \u001b[39mNone\u001b[39;00m\n",
      "File \u001b[0;32m~/.local/lib/python3.10/site-packages/torch/nn/modules/container.py:215\u001b[0m, in \u001b[0;36mSequential.forward\u001b[0;34m(self, input)\u001b[0m\n\u001b[1;32m    213\u001b[0m \u001b[39mdef\u001b[39;00m \u001b[39mforward\u001b[39m(\u001b[39mself\u001b[39m, \u001b[39minput\u001b[39m):\n\u001b[1;32m    214\u001b[0m     \u001b[39mfor\u001b[39;00m module \u001b[39min\u001b[39;00m \u001b[39mself\u001b[39m:\n\u001b[0;32m--> 215\u001b[0m         \u001b[39minput\u001b[39m \u001b[39m=\u001b[39m module(\u001b[39minput\u001b[39;49m)\n\u001b[1;32m    216\u001b[0m     \u001b[39mreturn\u001b[39;00m \u001b[39minput\u001b[39m\n",
      "File \u001b[0;32m~/.local/lib/python3.10/site-packages/torch/nn/modules/module.py:1518\u001b[0m, in \u001b[0;36mModule._wrapped_call_impl\u001b[0;34m(self, *args, **kwargs)\u001b[0m\n\u001b[1;32m   1516\u001b[0m     \u001b[39mreturn\u001b[39;00m \u001b[39mself\u001b[39m\u001b[39m.\u001b[39m_compiled_call_impl(\u001b[39m*\u001b[39margs, \u001b[39m*\u001b[39m\u001b[39m*\u001b[39mkwargs)  \u001b[39m# type: ignore[misc]\u001b[39;00m\n\u001b[1;32m   1517\u001b[0m \u001b[39melse\u001b[39;00m:\n\u001b[0;32m-> 1518\u001b[0m     \u001b[39mreturn\u001b[39;00m \u001b[39mself\u001b[39;49m\u001b[39m.\u001b[39;49m_call_impl(\u001b[39m*\u001b[39;49margs, \u001b[39m*\u001b[39;49m\u001b[39m*\u001b[39;49mkwargs)\n",
      "File \u001b[0;32m~/.local/lib/python3.10/site-packages/torch/nn/modules/module.py:1527\u001b[0m, in \u001b[0;36mModule._call_impl\u001b[0;34m(self, *args, **kwargs)\u001b[0m\n\u001b[1;32m   1522\u001b[0m \u001b[39m# If we don't have any hooks, we want to skip the rest of the logic in\u001b[39;00m\n\u001b[1;32m   1523\u001b[0m \u001b[39m# this function, and just call forward.\u001b[39;00m\n\u001b[1;32m   1524\u001b[0m \u001b[39mif\u001b[39;00m \u001b[39mnot\u001b[39;00m (\u001b[39mself\u001b[39m\u001b[39m.\u001b[39m_backward_hooks \u001b[39mor\u001b[39;00m \u001b[39mself\u001b[39m\u001b[39m.\u001b[39m_backward_pre_hooks \u001b[39mor\u001b[39;00m \u001b[39mself\u001b[39m\u001b[39m.\u001b[39m_forward_hooks \u001b[39mor\u001b[39;00m \u001b[39mself\u001b[39m\u001b[39m.\u001b[39m_forward_pre_hooks\n\u001b[1;32m   1525\u001b[0m         \u001b[39mor\u001b[39;00m _global_backward_pre_hooks \u001b[39mor\u001b[39;00m _global_backward_hooks\n\u001b[1;32m   1526\u001b[0m         \u001b[39mor\u001b[39;00m _global_forward_hooks \u001b[39mor\u001b[39;00m _global_forward_pre_hooks):\n\u001b[0;32m-> 1527\u001b[0m     \u001b[39mreturn\u001b[39;00m forward_call(\u001b[39m*\u001b[39;49margs, \u001b[39m*\u001b[39;49m\u001b[39m*\u001b[39;49mkwargs)\n\u001b[1;32m   1529\u001b[0m \u001b[39mtry\u001b[39;00m:\n\u001b[1;32m   1530\u001b[0m     result \u001b[39m=\u001b[39m \u001b[39mNone\u001b[39;00m\n",
      "File \u001b[0;32m~/.local/lib/python3.10/site-packages/torch/nn/modules/activation.py:100\u001b[0m, in \u001b[0;36mReLU.forward\u001b[0;34m(self, input)\u001b[0m\n\u001b[1;32m     97\u001b[0m     \u001b[39msuper\u001b[39m()\u001b[39m.\u001b[39m\u001b[39m__init__\u001b[39m()\n\u001b[1;32m     98\u001b[0m     \u001b[39mself\u001b[39m\u001b[39m.\u001b[39minplace \u001b[39m=\u001b[39m inplace\n\u001b[0;32m--> 100\u001b[0m \u001b[39mdef\u001b[39;00m \u001b[39mforward\u001b[39m(\u001b[39mself\u001b[39m, \u001b[39minput\u001b[39m: Tensor) \u001b[39m-\u001b[39m\u001b[39m>\u001b[39m Tensor:\n\u001b[1;32m    101\u001b[0m     \u001b[39mreturn\u001b[39;00m F\u001b[39m.\u001b[39mrelu(\u001b[39minput\u001b[39m, inplace\u001b[39m=\u001b[39m\u001b[39mself\u001b[39m\u001b[39m.\u001b[39minplace)\n\u001b[1;32m    103\u001b[0m \u001b[39mdef\u001b[39;00m \u001b[39mextra_repr\u001b[39m(\u001b[39mself\u001b[39m) \u001b[39m-\u001b[39m\u001b[39m>\u001b[39m \u001b[39mstr\u001b[39m:\n",
      "\u001b[0;31mKeyboardInterrupt\u001b[0m: "
     ]
    }
   ],
   "source": [
    "from dqn_agent import Agent, RandomAgent\n",
    "env.reset()\n",
    "agents = {agent_name: Agent(state_size=env.observation_space(env.agents[0])[\"observation\"].shape[0], action_size=env.action_space(env.agents[0]).n, seed=0, suffix=agent_name)\n",
    "          for agent_name in env.agents}\n",
    "# agents['player_0'] = RandomAgent(suffix='random_0')\n",
    "# agents['player_2'] = RandomAgent(suffix='random_2')\n",
    "\n",
    "def dqn(n_episodes=3000, max_t=500, eps_start=1.0, eps_end=0.01, eps_decay=0.9995):\n",
    "    \"\"\"Deep Q-Learning.\n",
    "\n",
    "    Params\n",
    "    ======\n",
    "        n_episodes (int): maximum number of training episodes\n",
    "        max_t (int): maximum number of timesteps per episode\n",
    "        eps_start (float): starting value of epsilon, for epsilon-greedy action selection\n",
    "        eps_end (float): minimum value of epsilon\n",
    "        eps_decay (float): multiplicative factor (per episode) for decreasing epsilon\n",
    "    \"\"\"\n",
    "    scores = defaultdict(list)                        # list containing scores from each episode\n",
    "    scores_window = defaultdict(lambda: deque(maxlen=100))  # last 100 scores\n",
    "    eps = eps_start                    # initialize epsilon\n",
    "    best_score = -np.inf\n",
    "    mean_score = defaultdict(float)\n",
    "    bar = tqdm.tqdm(range(1, n_episodes+1))\n",
    "    for i_episode in bar:\n",
    "        env.reset()\n",
    "        observations = {}\n",
    "        score = defaultdict(float)\n",
    "        for agent_name in env.agent_iter():\n",
    "            next_state, reward, d1, d2, _ = env.last()\n",
    "            if d1 or d2:\n",
    "                action = None\n",
    "            else:\n",
    "                action = agents[agent_name].act(next_state, eps, env.action_space(agent_name))\n",
    "            env.step(action)\n",
    "            score[agent_name] += reward\n",
    "            done = d1 or d2\n",
    "            if agent_name in observations:\n",
    "                agents[agent_name].step(observations[agent_name], action, reward, next_state[\"observation\"].astype(np.float32), done)\n",
    "            observations[agent_name] = next_state[\"observation\"].astype(np.float32)\n",
    "        eps = max(eps_end, eps_decay*eps) # decrease epsilon\n",
    "        for agent_name in agents.keys():\n",
    "            agents[agent_name].report_score(score[agent_name])\n",
    "            scores_window[agent_name].append(score[agent_name])       # save most recent score\n",
    "            scores[agent_name].append(score[agent_name])              # save most recent score\n",
    "            mean_score[agent_name] = np.mean(scores_window[agent_name])\n",
    "        bar.set_postfix(eps=eps, **mean_score)\n",
    "        # if i_episode % 100 == 0:\n",
    "        #     if mean_score > best_score:\n",
    "        #         best_score = mean_score\n",
    "        #         # torch.save(agent.qnetwork_local.state_dict(), f'checkpoint_buti.pth')\n",
    "\n",
    "    return scores\n",
    "\n",
    "\n",
    "dqn()"
   ]
  },
  {
   "cell_type": "markdown",
   "metadata": {},
   "source": [
    "### 4. Watch a Smart Agent!\n",
    "\n",
    "In the next code cell, you will load the trained weights from file to watch a smart agent!"
   ]
  },
  {
   "cell_type": "code",
   "execution_count": 10,
   "metadata": {},
   "outputs": [
    {
     "name": "stdout",
     "output_type": "stream",
     "text": [
      "Agent player_0 has hand [\u001b[33m6O\u001b[0m, \u001b[33m7O\u001b[0m, \u001b[33m10O\u001b[0m, \u001b[33m9O\u001b[0m, \u001b[31m6C\u001b[0m, \u001b[31m7C\u001b[0m, \u001b[31m10C\u001b[0m, \u001b[34m6E\u001b[0m, \u001b[34m11E\u001b[0m, \u001b[34mAE\u001b[0m, \u001b[32m2B\u001b[0m, \u001b[32m9B\u001b[0m]\n",
      "Agent player_1 has hand [\u001b[33m12O\u001b[0m, \u001b[31m2C\u001b[0m, \u001b[31m5C\u001b[0m, \u001b[31m8C\u001b[0m, \u001b[31m11C\u001b[0m, \u001b[31m9C\u001b[0m, \u001b[34m12E\u001b[0m, \u001b[32m3B\u001b[0m, \u001b[32m5B\u001b[0m, \u001b[32m6B\u001b[0m, \u001b[32m7B\u001b[0m, \u001b[32m11B\u001b[0m]\n",
      "Agent player_2 has hand [\u001b[33m2O\u001b[0m, \u001b[33m3O\u001b[0m, \u001b[33m4O\u001b[0m, \u001b[31m3C\u001b[0m, \u001b[31m4C\u001b[0m, \u001b[31m12C\u001b[0m, \u001b[34m2E\u001b[0m, \u001b[34m4E\u001b[0m, \u001b[34m8E\u001b[0m, \u001b[32m4B\u001b[0m, \u001b[32m8B\u001b[0m, \u001b[32mAB\u001b[0m]\n",
      "Agent player_3 has hand [\u001b[33m5O\u001b[0m, \u001b[33m8O\u001b[0m, \u001b[33m11O\u001b[0m, \u001b[33mAO\u001b[0m, \u001b[31mAC\u001b[0m, \u001b[34m3E\u001b[0m, \u001b[34m5E\u001b[0m, \u001b[34m7E\u001b[0m, \u001b[34m10E\u001b[0m, \u001b[34m9E\u001b[0m, \u001b[32m10B\u001b[0m, \u001b[32m12B\u001b[0m]\n",
      "Trump is E\n",
      "Table is []\n",
      "Last trick won by 02 team is []\n",
      "Last trick won by 13 team is []\n",
      "\n",
      "Score: 0\n",
      "Mask : [0 0 0 0 1 1 0 1 0 0 0 1 0 0 0 0 1 1 0 1 0 0 0 0 0 0 0 0 1 0 0 0 1 0 1 0 1\n",
      " 0 0 0 0 0 0 0 0 0 0 1]\n",
      "Invalid card\n",
      "Agent player_0 has hand [\u001b[33m6O\u001b[0m, \u001b[33m7O\u001b[0m, \u001b[33m10O\u001b[0m, \u001b[33m9O\u001b[0m, \u001b[31m6C\u001b[0m, \u001b[31m7C\u001b[0m, \u001b[34m6E\u001b[0m, \u001b[34m11E\u001b[0m, \u001b[34mAE\u001b[0m, \u001b[32m2B\u001b[0m, \u001b[32m9B\u001b[0m]\n",
      "Agent player_1 has hand [\u001b[33m12O\u001b[0m, \u001b[31m2C\u001b[0m, \u001b[31m5C\u001b[0m, \u001b[31m8C\u001b[0m, \u001b[31m11C\u001b[0m, \u001b[31m9C\u001b[0m, \u001b[34m12E\u001b[0m, \u001b[32m3B\u001b[0m, \u001b[32m5B\u001b[0m, \u001b[32m6B\u001b[0m, \u001b[32m7B\u001b[0m, \u001b[32m11B\u001b[0m]\n",
      "Agent player_2 has hand [\u001b[33m2O\u001b[0m, \u001b[33m3O\u001b[0m, \u001b[33m4O\u001b[0m, \u001b[31m3C\u001b[0m, \u001b[31m4C\u001b[0m, \u001b[31m12C\u001b[0m, \u001b[34m2E\u001b[0m, \u001b[34m4E\u001b[0m, \u001b[34m8E\u001b[0m, \u001b[32m4B\u001b[0m, \u001b[32m8B\u001b[0m, \u001b[32mAB\u001b[0m]\n",
      "Agent player_3 has hand [\u001b[33m5O\u001b[0m, \u001b[33m8O\u001b[0m, \u001b[33m11O\u001b[0m, \u001b[33mAO\u001b[0m, \u001b[31mAC\u001b[0m, \u001b[34m3E\u001b[0m, \u001b[34m5E\u001b[0m, \u001b[34m7E\u001b[0m, \u001b[34m10E\u001b[0m, \u001b[34m9E\u001b[0m, \u001b[32m10B\u001b[0m, \u001b[32m12B\u001b[0m]\n",
      "Trump is E\n",
      "Table is [\u001b[31m10C\u001b[0m]\n",
      "Last trick won by 02 team is []\n",
      "Last trick won by 13 team is []\n",
      "\n",
      "Agent player_0 has hand [\u001b[33m6O\u001b[0m, \u001b[33m7O\u001b[0m, \u001b[33m10O\u001b[0m, \u001b[33m9O\u001b[0m, \u001b[31m6C\u001b[0m, \u001b[31m7C\u001b[0m, \u001b[34m6E\u001b[0m, \u001b[34m11E\u001b[0m, \u001b[34mAE\u001b[0m, \u001b[32m2B\u001b[0m, \u001b[32m9B\u001b[0m]\n",
      "Agent player_1 has hand [\u001b[33m12O\u001b[0m, \u001b[31m2C\u001b[0m, \u001b[31m5C\u001b[0m, \u001b[31m8C\u001b[0m, \u001b[31m9C\u001b[0m, \u001b[34m12E\u001b[0m, \u001b[32m3B\u001b[0m, \u001b[32m5B\u001b[0m, \u001b[32m6B\u001b[0m, \u001b[32m7B\u001b[0m, \u001b[32m11B\u001b[0m]\n",
      "Agent player_2 has hand [\u001b[33m2O\u001b[0m, \u001b[33m3O\u001b[0m, \u001b[33m4O\u001b[0m, \u001b[31m3C\u001b[0m, \u001b[31m4C\u001b[0m, \u001b[31m12C\u001b[0m, \u001b[34m2E\u001b[0m, \u001b[34m4E\u001b[0m, \u001b[34m8E\u001b[0m, \u001b[32m4B\u001b[0m, \u001b[32m8B\u001b[0m, \u001b[32mAB\u001b[0m]\n",
      "Agent player_3 has hand [\u001b[33m5O\u001b[0m, \u001b[33m8O\u001b[0m, \u001b[33m11O\u001b[0m, \u001b[33mAO\u001b[0m, \u001b[31mAC\u001b[0m, \u001b[34m3E\u001b[0m, \u001b[34m5E\u001b[0m, \u001b[34m7E\u001b[0m, \u001b[34m10E\u001b[0m, \u001b[34m9E\u001b[0m, \u001b[32m10B\u001b[0m, \u001b[32m12B\u001b[0m]\n",
      "Trump is E\n",
      "Table is [\u001b[31m10C\u001b[0m, \u001b[31m11C\u001b[0m]\n",
      "Last trick won by 02 team is []\n",
      "Last trick won by 13 team is []\n",
      "\n",
      "Agent player_0 has hand [\u001b[33m6O\u001b[0m, \u001b[33m7O\u001b[0m, \u001b[33m10O\u001b[0m, \u001b[33m9O\u001b[0m, \u001b[31m6C\u001b[0m, \u001b[31m7C\u001b[0m, \u001b[34m6E\u001b[0m, \u001b[34m11E\u001b[0m, \u001b[34mAE\u001b[0m, \u001b[32m2B\u001b[0m, \u001b[32m9B\u001b[0m]\n",
      "Agent player_1 has hand [\u001b[33m12O\u001b[0m, \u001b[31m2C\u001b[0m, \u001b[31m5C\u001b[0m, \u001b[31m8C\u001b[0m, \u001b[31m9C\u001b[0m, \u001b[34m12E\u001b[0m, \u001b[32m3B\u001b[0m, \u001b[32m5B\u001b[0m, \u001b[32m6B\u001b[0m, \u001b[32m7B\u001b[0m, \u001b[32m11B\u001b[0m]\n",
      "Agent player_2 has hand [\u001b[33m2O\u001b[0m, \u001b[33m3O\u001b[0m, \u001b[33m4O\u001b[0m, \u001b[31m3C\u001b[0m, \u001b[31m4C\u001b[0m, \u001b[34m2E\u001b[0m, \u001b[34m4E\u001b[0m, \u001b[34m8E\u001b[0m, \u001b[32m4B\u001b[0m, \u001b[32m8B\u001b[0m, \u001b[32mAB\u001b[0m]\n",
      "Agent player_3 has hand [\u001b[33m5O\u001b[0m, \u001b[33m8O\u001b[0m, \u001b[33m11O\u001b[0m, \u001b[33mAO\u001b[0m, \u001b[31mAC\u001b[0m, \u001b[34m3E\u001b[0m, \u001b[34m5E\u001b[0m, \u001b[34m7E\u001b[0m, \u001b[34m10E\u001b[0m, \u001b[34m9E\u001b[0m, \u001b[32m10B\u001b[0m, \u001b[32m12B\u001b[0m]\n",
      "Trump is E\n",
      "Table is [\u001b[31m10C\u001b[0m, \u001b[31m11C\u001b[0m, \u001b[31m12C\u001b[0m]\n",
      "Last trick won by 02 team is []\n",
      "Last trick won by 13 team is []\n",
      "\n",
      "Agent player_0 has hand [\u001b[33m6O\u001b[0m, \u001b[33m7O\u001b[0m, \u001b[33m10O\u001b[0m, \u001b[33m9O\u001b[0m, \u001b[31m6C\u001b[0m, \u001b[31m7C\u001b[0m, \u001b[34m6E\u001b[0m, \u001b[34m11E\u001b[0m, \u001b[34mAE\u001b[0m, \u001b[32m2B\u001b[0m, \u001b[32m9B\u001b[0m]\n",
      "Agent player_1 has hand [\u001b[33m12O\u001b[0m, \u001b[31m2C\u001b[0m, \u001b[31m5C\u001b[0m, \u001b[31m8C\u001b[0m, \u001b[31m9C\u001b[0m, \u001b[34m12E\u001b[0m, \u001b[32m3B\u001b[0m, \u001b[32m5B\u001b[0m, \u001b[32m6B\u001b[0m, \u001b[32m7B\u001b[0m, \u001b[32m11B\u001b[0m]\n",
      "Agent player_2 has hand [\u001b[33m2O\u001b[0m, \u001b[33m3O\u001b[0m, \u001b[33m4O\u001b[0m, \u001b[31m3C\u001b[0m, \u001b[31m4C\u001b[0m, \u001b[34m2E\u001b[0m, \u001b[34m4E\u001b[0m, \u001b[34m8E\u001b[0m, \u001b[32m4B\u001b[0m, \u001b[32m8B\u001b[0m, \u001b[32mAB\u001b[0m]\n",
      "Agent player_3 has hand [\u001b[33m5O\u001b[0m, \u001b[33m8O\u001b[0m, \u001b[33m11O\u001b[0m, \u001b[33mAO\u001b[0m, \u001b[34m3E\u001b[0m, \u001b[34m5E\u001b[0m, \u001b[34m7E\u001b[0m, \u001b[34m10E\u001b[0m, \u001b[34m9E\u001b[0m, \u001b[32m10B\u001b[0m, \u001b[32m12B\u001b[0m]\n",
      "Trump is E\n",
      "Table is []\n",
      "Last trick won by 02 team is []\n",
      "Last trick won by 13 team is [\u001b[31m10C\u001b[0m, \u001b[31m11C\u001b[0m, \u001b[31m12C\u001b[0m, \u001b[31mAC\u001b[0m]\n",
      "\n",
      "Agent player_0 has hand [\u001b[33m6O\u001b[0m, \u001b[33m7O\u001b[0m, \u001b[33m10O\u001b[0m, \u001b[33m9O\u001b[0m, \u001b[31m6C\u001b[0m, \u001b[31m7C\u001b[0m, \u001b[34m6E\u001b[0m, \u001b[34m11E\u001b[0m, \u001b[34mAE\u001b[0m, \u001b[32m2B\u001b[0m, \u001b[32m9B\u001b[0m]\n",
      "Agent player_1 has hand [\u001b[33m12O\u001b[0m, \u001b[31m2C\u001b[0m, \u001b[31m5C\u001b[0m, \u001b[31m8C\u001b[0m, \u001b[31m9C\u001b[0m, \u001b[34m12E\u001b[0m, \u001b[32m3B\u001b[0m, \u001b[32m5B\u001b[0m, \u001b[32m6B\u001b[0m, \u001b[32m7B\u001b[0m, \u001b[32m11B\u001b[0m]\n",
      "Agent player_2 has hand [\u001b[33m2O\u001b[0m, \u001b[33m3O\u001b[0m, \u001b[33m4O\u001b[0m, \u001b[31m3C\u001b[0m, \u001b[31m4C\u001b[0m, \u001b[34m2E\u001b[0m, \u001b[34m4E\u001b[0m, \u001b[34m8E\u001b[0m, \u001b[32m4B\u001b[0m, \u001b[32m8B\u001b[0m, \u001b[32mAB\u001b[0m]\n",
      "Agent player_3 has hand [\u001b[33m5O\u001b[0m, \u001b[33m8O\u001b[0m, \u001b[33mAO\u001b[0m, \u001b[34m3E\u001b[0m, \u001b[34m5E\u001b[0m, \u001b[34m7E\u001b[0m, \u001b[34m10E\u001b[0m, \u001b[34m9E\u001b[0m, \u001b[32m10B\u001b[0m, \u001b[32m12B\u001b[0m]\n",
      "Trump is E\n",
      "Table is [\u001b[33m11O\u001b[0m]\n",
      "Last trick won by 02 team is []\n",
      "Last trick won by 13 team is [\u001b[31m10C\u001b[0m, \u001b[31m11C\u001b[0m, \u001b[31m12C\u001b[0m, \u001b[31mAC\u001b[0m]\n",
      "\n",
      "Score: -5.5\n",
      "Mask : [0 0 0 0 0 0 0 0 0 0 0 1 0 0 0 0 0 0 0 0 0 0 0 0 0 0 0 0 0 0 0 0 0 0 0 0 0\n",
      " 0 0 0 0 0 0 0 0 0 0 0]\n",
      "Agent player_0 has hand [\u001b[33m6O\u001b[0m, \u001b[33m7O\u001b[0m, \u001b[33m10O\u001b[0m, \u001b[31m6C\u001b[0m, \u001b[31m7C\u001b[0m, \u001b[34m6E\u001b[0m, \u001b[34m11E\u001b[0m, \u001b[34mAE\u001b[0m, \u001b[32m2B\u001b[0m, \u001b[32m9B\u001b[0m]\n",
      "Agent player_1 has hand [\u001b[33m12O\u001b[0m, \u001b[31m2C\u001b[0m, \u001b[31m5C\u001b[0m, \u001b[31m8C\u001b[0m, \u001b[31m9C\u001b[0m, \u001b[34m12E\u001b[0m, \u001b[32m3B\u001b[0m, \u001b[32m5B\u001b[0m, \u001b[32m6B\u001b[0m, \u001b[32m7B\u001b[0m, \u001b[32m11B\u001b[0m]\n",
      "Agent player_2 has hand [\u001b[33m2O\u001b[0m, \u001b[33m3O\u001b[0m, \u001b[33m4O\u001b[0m, \u001b[31m3C\u001b[0m, \u001b[31m4C\u001b[0m, \u001b[34m2E\u001b[0m, \u001b[34m4E\u001b[0m, \u001b[34m8E\u001b[0m, \u001b[32m4B\u001b[0m, \u001b[32m8B\u001b[0m, \u001b[32mAB\u001b[0m]\n",
      "Agent player_3 has hand [\u001b[33m5O\u001b[0m, \u001b[33m8O\u001b[0m, \u001b[33mAO\u001b[0m, \u001b[34m3E\u001b[0m, \u001b[34m5E\u001b[0m, \u001b[34m7E\u001b[0m, \u001b[34m10E\u001b[0m, \u001b[34m9E\u001b[0m, \u001b[32m10B\u001b[0m, \u001b[32m12B\u001b[0m]\n",
      "Trump is E\n",
      "Table is [\u001b[33m11O\u001b[0m, \u001b[33m9O\u001b[0m]\n",
      "Last trick won by 02 team is []\n",
      "Last trick won by 13 team is [\u001b[31m10C\u001b[0m, \u001b[31m11C\u001b[0m, \u001b[31m12C\u001b[0m, \u001b[31mAC\u001b[0m]\n",
      "\n",
      "Agent player_0 has hand [\u001b[33m6O\u001b[0m, \u001b[33m7O\u001b[0m, \u001b[33m10O\u001b[0m, \u001b[31m6C\u001b[0m, \u001b[31m7C\u001b[0m, \u001b[34m6E\u001b[0m, \u001b[34m11E\u001b[0m, \u001b[34mAE\u001b[0m, \u001b[32m2B\u001b[0m, \u001b[32m9B\u001b[0m]\n",
      "Agent player_1 has hand [\u001b[31m2C\u001b[0m, \u001b[31m5C\u001b[0m, \u001b[31m8C\u001b[0m, \u001b[31m9C\u001b[0m, \u001b[34m12E\u001b[0m, \u001b[32m3B\u001b[0m, \u001b[32m5B\u001b[0m, \u001b[32m6B\u001b[0m, \u001b[32m7B\u001b[0m, \u001b[32m11B\u001b[0m]\n",
      "Agent player_2 has hand [\u001b[33m2O\u001b[0m, \u001b[33m3O\u001b[0m, \u001b[33m4O\u001b[0m, \u001b[31m3C\u001b[0m, \u001b[31m4C\u001b[0m, \u001b[34m2E\u001b[0m, \u001b[34m4E\u001b[0m, \u001b[34m8E\u001b[0m, \u001b[32m4B\u001b[0m, \u001b[32m8B\u001b[0m, \u001b[32mAB\u001b[0m]\n",
      "Agent player_3 has hand [\u001b[33m5O\u001b[0m, \u001b[33m8O\u001b[0m, \u001b[33mAO\u001b[0m, \u001b[34m3E\u001b[0m, \u001b[34m5E\u001b[0m, \u001b[34m7E\u001b[0m, \u001b[34m10E\u001b[0m, \u001b[34m9E\u001b[0m, \u001b[32m10B\u001b[0m, \u001b[32m12B\u001b[0m]\n",
      "Trump is E\n",
      "Table is [\u001b[33m11O\u001b[0m, \u001b[33m9O\u001b[0m, \u001b[33m12O\u001b[0m]\n",
      "Last trick won by 02 team is []\n",
      "Last trick won by 13 team is [\u001b[31m10C\u001b[0m, \u001b[31m11C\u001b[0m, \u001b[31m12C\u001b[0m, \u001b[31mAC\u001b[0m]\n",
      "\n",
      "Agent player_0 has hand [\u001b[33m6O\u001b[0m, \u001b[33m7O\u001b[0m, \u001b[33m10O\u001b[0m, \u001b[31m6C\u001b[0m, \u001b[31m7C\u001b[0m, \u001b[34m6E\u001b[0m, \u001b[34m11E\u001b[0m, \u001b[34mAE\u001b[0m, \u001b[32m2B\u001b[0m, \u001b[32m9B\u001b[0m]\n",
      "Agent player_1 has hand [\u001b[31m2C\u001b[0m, \u001b[31m5C\u001b[0m, \u001b[31m8C\u001b[0m, \u001b[31m9C\u001b[0m, \u001b[34m12E\u001b[0m, \u001b[32m3B\u001b[0m, \u001b[32m5B\u001b[0m, \u001b[32m6B\u001b[0m, \u001b[32m7B\u001b[0m, \u001b[32m11B\u001b[0m]\n",
      "Agent player_2 has hand [\u001b[33m3O\u001b[0m, \u001b[33m4O\u001b[0m, \u001b[31m3C\u001b[0m, \u001b[31m4C\u001b[0m, \u001b[34m2E\u001b[0m, \u001b[34m4E\u001b[0m, \u001b[34m8E\u001b[0m, \u001b[32m4B\u001b[0m, \u001b[32m8B\u001b[0m, \u001b[32mAB\u001b[0m]\n",
      "Agent player_3 has hand [\u001b[33m5O\u001b[0m, \u001b[33m8O\u001b[0m, \u001b[33mAO\u001b[0m, \u001b[34m3E\u001b[0m, \u001b[34m5E\u001b[0m, \u001b[34m7E\u001b[0m, \u001b[34m10E\u001b[0m, \u001b[34m9E\u001b[0m, \u001b[32m10B\u001b[0m, \u001b[32m12B\u001b[0m]\n",
      "Trump is E\n",
      "Table is []\n",
      "Last trick won by 02 team is [\u001b[33m11O\u001b[0m, \u001b[33m9O\u001b[0m, \u001b[33m12O\u001b[0m, \u001b[33m2O\u001b[0m]\n",
      "Last trick won by 13 team is [\u001b[31m10C\u001b[0m, \u001b[31m11C\u001b[0m, \u001b[31m12C\u001b[0m, \u001b[31mAC\u001b[0m]\n",
      "\n",
      "Score: 0.0\n",
      "Mask : [0 0 0 0 1 1 0 1 0 0 0 0 0 0 0 0 1 1 0 0 0 0 0 0 0 0 0 0 1 0 0 0 1 0 1 0 1\n",
      " 0 0 0 0 0 0 0 0 0 0 1]\n",
      "Invalid card\n",
      "Invalid card\n",
      "Invalid card\n"
     ]
    },
    {
     "ename": "AssertionError",
     "evalue": "action is not in action space",
     "output_type": "error",
     "traceback": [
      "\u001b[0;31m---------------------------------------------------------------------------\u001b[0m",
      "\u001b[0;31mAssertionError\u001b[0m                            Traceback (most recent call last)",
      "\u001b[1;32m/home/110359@TRI.LAN/Documents/deep-reinforcement-learning/butifarra/Deep_Q_Network.ipynb Cell 10\u001b[0m line \u001b[0;36m3\n\u001b[1;32m     <a href='vscode-notebook-cell:/home/110359%40TRI.LAN/Documents/deep-reinforcement-learning/butifarra/Deep_Q_Network.ipynb#X13sZmlsZQ%3D%3D?line=26'>27</a>\u001b[0m             agents[agent_name]\u001b[39m.\u001b[39muse_mask \u001b[39m=\u001b[39m \u001b[39mTrue\u001b[39;00m\n\u001b[1;32m     <a href='vscode-notebook-cell:/home/110359%40TRI.LAN/Documents/deep-reinforcement-learning/butifarra/Deep_Q_Network.ipynb#X13sZmlsZQ%3D%3D?line=27'>28</a>\u001b[0m             action \u001b[39m=\u001b[39m agents[agent_name]\u001b[39m.\u001b[39mact(state, \u001b[39m0.0\u001b[39m, env\u001b[39m.\u001b[39maction_space(agent_name))\n\u001b[0;32m---> <a href='vscode-notebook-cell:/home/110359%40TRI.LAN/Documents/deep-reinforcement-learning/butifarra/Deep_Q_Network.ipynb#X13sZmlsZQ%3D%3D?line=29'>30</a>\u001b[0m     env\u001b[39m.\u001b[39;49mstep(action)\n\u001b[1;32m     <a href='vscode-notebook-cell:/home/110359%40TRI.LAN/Documents/deep-reinforcement-learning/butifarra/Deep_Q_Network.ipynb#X13sZmlsZQ%3D%3D?line=31'>32</a>\u001b[0m \u001b[39mprint\u001b[39m(\u001b[39mf\u001b[39m\u001b[39m\"\u001b[39m\u001b[39mScore: \u001b[39m\u001b[39m{\u001b[39;00mscore\u001b[39m}\u001b[39;00m\u001b[39m\"\u001b[39m)\n",
      "File \u001b[0;32m~/.local/lib/python3.10/site-packages/pettingzoo/utils/wrappers/order_enforcing.py:91\u001b[0m, in \u001b[0;36mOrderEnforcingWrapper.step\u001b[0;34m(self, action)\u001b[0m\n\u001b[1;32m     89\u001b[0m \u001b[39melse\u001b[39;00m:\n\u001b[1;32m     90\u001b[0m     \u001b[39mself\u001b[39m\u001b[39m.\u001b[39m_has_updated \u001b[39m=\u001b[39m \u001b[39mTrue\u001b[39;00m\n\u001b[0;32m---> 91\u001b[0m     \u001b[39msuper\u001b[39;49m()\u001b[39m.\u001b[39;49mstep(action)\n",
      "File \u001b[0;32m~/.local/lib/python3.10/site-packages/pettingzoo/utils/wrappers/base.py:116\u001b[0m, in \u001b[0;36mBaseWrapper.step\u001b[0;34m(self, action)\u001b[0m\n\u001b[1;32m    115\u001b[0m \u001b[39mdef\u001b[39;00m \u001b[39mstep\u001b[39m(\u001b[39mself\u001b[39m, action: ActionType) \u001b[39m-\u001b[39m\u001b[39m>\u001b[39m \u001b[39mNone\u001b[39;00m:\n\u001b[0;32m--> 116\u001b[0m     \u001b[39mself\u001b[39;49m\u001b[39m.\u001b[39;49menv\u001b[39m.\u001b[39;49mstep(action)\n\u001b[1;32m    118\u001b[0m     \u001b[39mself\u001b[39m\u001b[39m.\u001b[39magent_selection \u001b[39m=\u001b[39m \u001b[39mself\u001b[39m\u001b[39m.\u001b[39menv\u001b[39m.\u001b[39magent_selection\n\u001b[1;32m    119\u001b[0m     \u001b[39mself\u001b[39m\u001b[39m.\u001b[39mrewards \u001b[39m=\u001b[39m \u001b[39mself\u001b[39m\u001b[39m.\u001b[39menv\u001b[39m.\u001b[39mrewards\n",
      "File \u001b[0;32m~/.local/lib/python3.10/site-packages/pettingzoo/utils/wrappers/assert_out_of_bounds.py:18\u001b[0m, in \u001b[0;36mAssertOutOfBoundsWrapper.step\u001b[0;34m(self, action)\u001b[0m\n\u001b[1;32m     16\u001b[0m \u001b[39mdef\u001b[39;00m \u001b[39mstep\u001b[39m(\u001b[39mself\u001b[39m, action: ActionType) \u001b[39m-\u001b[39m\u001b[39m>\u001b[39m \u001b[39mNone\u001b[39;00m:\n\u001b[1;32m     17\u001b[0m     \u001b[39massert\u001b[39;00m (\n\u001b[0;32m---> 18\u001b[0m         action \u001b[39mis\u001b[39;00m \u001b[39mNone\u001b[39;00m\n\u001b[1;32m     19\u001b[0m         \u001b[39mand\u001b[39;00m (\n\u001b[1;32m     20\u001b[0m             \u001b[39mself\u001b[39m\u001b[39m.\u001b[39mterminations[\u001b[39mself\u001b[39m\u001b[39m.\u001b[39magent_selection]\n\u001b[1;32m     21\u001b[0m             \u001b[39mor\u001b[39;00m \u001b[39mself\u001b[39m\u001b[39m.\u001b[39mtruncations[\u001b[39mself\u001b[39m\u001b[39m.\u001b[39magent_selection]\n\u001b[1;32m     22\u001b[0m         )\n\u001b[1;32m     23\u001b[0m     ) \u001b[39mor\u001b[39;00m \u001b[39mself\u001b[39m\u001b[39m.\u001b[39maction_space(\u001b[39mself\u001b[39m\u001b[39m.\u001b[39magent_selection)\u001b[39m.\u001b[39mcontains(\n\u001b[1;32m     24\u001b[0m         action\n\u001b[1;32m     25\u001b[0m     ), \u001b[39m\"\u001b[39m\u001b[39maction is not in action space\u001b[39m\u001b[39m\"\u001b[39m\n\u001b[1;32m     26\u001b[0m     \u001b[39msuper\u001b[39m()\u001b[39m.\u001b[39mstep(action)\n",
      "\u001b[0;31mAssertionError\u001b[0m: action is not in action space"
     ]
    }
   ],
   "source": [
    "# Run the trained agent\n",
    "from butifarra_env import get_action\n",
    "\n",
    "env.reset()\n",
    "score=0\n",
    "for agent_name in env.agent_iter():\n",
    "    state, reward, d1, d2, _  = env.last()\n",
    "    print(env.render())\n",
    "    if d1 or d2:\n",
    "        action = None\n",
    "    else:\n",
    "        if agent_name == 'player_0':\n",
    "            score += reward\n",
    "            print(f'Score: {score}')\n",
    "            print(f\"Mask : {state['action_mask']}\")\n",
    "            while True:\n",
    "                try:\n",
    "                    card = input('Enter action: ')\n",
    "                    if card == 'pass':\n",
    "                        action = None\n",
    "                        break\n",
    "                    action = get_action(card)\n",
    "                    break\n",
    "                except:\n",
    "                    print('Invalid card')\n",
    "        else:\n",
    "            agents[agent_name].use_mask = True\n",
    "            action = agents[agent_name].act(state, 0.0, env.action_space(agent_name))\n",
    "\n",
    "    env.step(action)\n",
    "\n",
    "print(f\"Score: {score}\")\n"
   ]
  },
  {
   "cell_type": "markdown",
   "metadata": {},
   "source": [
    "### 5. Explore\n",
    "\n",
    "In this exercise, you have implemented a DQN agent and demonstrated how to use it to solve an OpenAI Gym environment.  To continue your learning, you are encouraged to complete any (or all!) of the following tasks:\n",
    "- Amend the various hyperparameters and network architecture to see if you can get your agent to solve the environment faster.  Once you build intuition for the hyperparameters that work well with this environment, try solving a different OpenAI Gym task with discrete actions!\n",
    "- You may like to implement some improvements such as prioritized experience replay, Double DQN, or Dueling DQN! \n",
    "- Write a blog post explaining the intuition behind the DQN algorithm and demonstrating how to use it to solve an RL environment of your choosing.  "
   ]
  }
 ],
 "metadata": {
  "kernelspec": {
   "display_name": "Python 3",
   "language": "python",
   "name": "python3"
  },
  "language_info": {
   "codemirror_mode": {
    "name": "ipython",
    "version": 3
   },
   "file_extension": ".py",
   "mimetype": "text/x-python",
   "name": "python",
   "nbconvert_exporter": "python",
   "pygments_lexer": "ipython3",
   "version": "3.10.12"
  }
 },
 "nbformat": 4,
 "nbformat_minor": 2
}
